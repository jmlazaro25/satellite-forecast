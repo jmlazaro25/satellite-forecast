{
 "cells": [
  {
   "cell_type": "markdown",
   "id": "7f61289e",
   "metadata": {},
   "source": [
    "# Data Process\n",
    "\n",
    "This notebook covers the extraction and processing of the data used in this project.\n",
    "\n",
    "All data is collected from [NASA Earth Observations (NEO)](https://neo.gsfc.nasa.gov/about), which hosts various well maintained datasets available for public use.\n",
    "\n",
    "For demonstration and development purposes, we only show the process for the grayscale GPM_3IMERGDL dataset, which you can read about [here](https://neo.gsfc.nasa.gov/view.php?datasetId=GPM_3IMERGDL). Some code used here is defined in the data module for better portability.\n",
    "\n",
    "1. [Extract Data](#extract_data)\n",
    "2. [Exploratory Data Analysis (EDA)](#eda)\n",
    "3. [Process](#process)"
   ]
  },
  {
   "cell_type": "markdown",
   "id": "11f7189b",
   "metadata": {},
   "source": [
    "<a id='extract_data'></a>\n",
    "### Extract Data"
   ]
  },
  {
   "cell_type": "code",
   "execution_count": 11,
   "id": "665c7e3e",
   "metadata": {},
   "outputs": [
    {
     "name": "stdout",
     "output_type": "stream",
     "text": [
      "def download(\n",
      "    dataset=DATASETS['gs_rainfall_daily'],\n",
      "    years=list(range(2015, 2021)),\n",
      "    ext='.PNG',\n",
      "    force=False,\n",
      "    verbose='q',\n",
      "    ):\n",
      "    \"\"\" Standardize downloading data \"\"\"\n",
      "\n",
      "    url = 'https://neo.gsfc.nasa.gov/archive/' + dataset\n",
      "    save_dir = f'{BASE_DIR}/datasets/{dataset}'\n",
      "\n",
      "    # \\ in triple quotes for os.system\n",
      "    template = \"\"\"wget --no-directories --no-host-directories --no-parent \\\n",
      "    --recursive --mirror \\\n",
      "    --accept {accept} \\\n",
      "    -l1 {url}\"\"\" \\\n",
      "    + f\"\"\" -P {save_dir} \\\n",
      "    -{verbose}\"\"\"\n",
      "\n",
      "    # Skip if data exists\n",
      "    if os.path.exists(save_dir) and (not force):\n",
      "        return save_dir\n",
      "\n",
      "    # Download color table if needed for dataset\n",
      "    if dataset == DATASETS['gs_rainfall_daily']:\n",
      "        os.system(\n",
      "            template.format(\n",
      "                accept='*.act',\n",
      "                url='https://neo.gsfc.nasa.gov/palettes/trmm_rainfall.act'\n",
      "                )\n",
      "            )\n",
      "\n",
      "    # Download PNGs\n",
      "    os.system(\n",
      "        template.format(\n",
      "            accept=','.join(map(lambda y: f'*{y}*{ext}', years)),\n",
      "            url=url\n",
      "            )\n",
      "        )\n",
      "\n",
      "    return save_dir\n",
      "\n"
     ]
    }
   ],
   "source": [
    "from data import download\n",
    "from inspect import getsource\n",
    "\n",
    "print(getsource(download))\n",
    "\n",
    "gs_rainfall_daily_raw = download()"
   ]
  },
  {
   "cell_type": "markdown",
   "id": "bb889f54",
   "metadata": {},
   "source": [
    "<a id='eda'></a>\n",
    "## Exploratory Data Analysis (EDA)\n",
    "\n",
    "Use "
   ]
  },
  {
   "cell_type": "code",
   "execution_count": 6,
   "id": "d7bc9efa",
   "metadata": {},
   "outputs": [
    {
     "data": {
      "text/plain": [
       "'/home/jmlazaro/data_science/satellite-forecast/data/data/gs/GPM_3IMERGDL/'"
      ]
     },
     "execution_count": 6,
     "metadata": {},
     "output_type": "execute_result"
    }
   ],
   "source": [
    "n_images = 100\n"
   ]
  },
  {
   "cell_type": "code",
   "execution_count": null,
   "id": "c75ed972",
   "metadata": {},
   "outputs": [],
   "source": []
  }
 ],
 "metadata": {
  "kernelspec": {
   "display_name": "Python 3.11 (ipykernel)",
   "language": "python",
   "name": "python3"
  },
  "language_info": {
   "codemirror_mode": {
    "name": "ipython",
    "version": 3
   },
   "file_extension": ".py",
   "mimetype": "text/x-python",
   "name": "python",
   "nbconvert_exporter": "python",
   "pygments_lexer": "ipython3",
   "version": "3.11.3"
  }
 },
 "nbformat": 4,
 "nbformat_minor": 5
}
